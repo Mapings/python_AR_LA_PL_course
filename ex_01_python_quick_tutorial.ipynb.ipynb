{
 "cells": [
  {
   "cell_type": "code",
   "execution_count": 1,
   "id": "0ec6c890-488c-4a0e-b6e7-e7fc75dedb46",
   "metadata": {},
   "outputs": [],
   "source": [
    "# 3.5.2 递归函数笔记\n",
    "\n",
    "\n",
    "# python中的递归函数格式：factorial   \n",
    "\n",
    "# 课程中的文字解释：递归recursion-在数学与计算机科学中，是指在函数的定义中使用函数自身的方法。一般来讲递归包含两个部分：\n",
    "#• 当函数直接返回值时有基本实例（最小可能性问题）；\n",
    "#• 递归实例，包括一个或者多个问题最小部分的递归调用；\n",
    "#这里的关键就是将问题分成为小部分，递归不能永远继续下去，因为它总是以最小可能性问题结束，而这些问题又存贮在基本实例中。每次函数被调用时，针对这个调用的新命名空间会被创建，意味着当函数调用“自身”时，实际上运行的是两个不同的函数（或者说是同一个函数具有两个不同的命名空间）。\n",
    "\n",
    "# 自己对factorial的理解：\n",
    "#一个数x，用factorial可以调用和x相同的另一个数，x会影响这个调用的数的值，但是调用的数不会影响原本的x。"
   ]
  },
  {
   "cell_type": "code",
   "execution_count": 2,
   "id": "c037aa75-aa1c-4259-a410-b1573205f376",
   "metadata": {},
   "outputs": [
    {
     "name": "stdout",
     "output_type": "stream",
     "text": [
      "5040\n"
     ]
    }
   ],
   "source": [
    "# 3.5.2 递归函数实例练习（课程中的函数）\n",
    "\n",
    "def factorial(n):                      # def的含义：python中用def开始函数定义，紧接着是函数名，括号内部为函数的参数。   自己的理解：定义函数\n",
    "    if n==1:                           # if：判断语句      ==：python中的比较运算符，“等于”的意思，作用是比较两个值是否相等\n",
    "        return 1                       # return的用法：1返回函数的返回值：2终止程序的运行，提前退出。    此处为2的用法\n",
    "    else:\n",
    "        return n*factorial(n-1)        # return的返回函数值的用法\n",
    "print(factorial(7))                    # 输出函数值，顺便为n赋值"
   ]
  },
  {
   "cell_type": "code",
   "execution_count": 3,
   "id": "49212cb8-4815-4362-92a2-aa1d9b1c8542",
   "metadata": {},
   "outputs": [
    {
     "name": "stdout",
     "output_type": "stream",
     "text": [
      "20\n"
     ]
    }
   ],
   "source": [
    "# 3.5.2 递归函数实例练习（自己尝试）\n",
    "def factorial(x):\n",
    "    if x==2:\n",
    "        return 2     \n",
    "    else:\n",
    "        return x+factorial(x-2)\n",
    "print(factorial(8))"
   ]
  },
  {
   "cell_type": "code",
   "execution_count": null,
   "id": "d4e914af-22f4-4d7a-bb70-7e61b73d6df3",
   "metadata": {},
   "outputs": [],
   "source": []
  }
 ],
 "metadata": {
  "kernelspec": {
   "display_name": "Python 3",
   "language": "python",
   "name": "python3"
  },
  "language_info": {
   "codemirror_mode": {
    "name": "ipython",
    "version": 3
   },
   "file_extension": ".py",
   "mimetype": "text/x-python",
   "name": "python",
   "nbconvert_exporter": "python",
   "pygments_lexer": "ipython3",
   "version": "3.8.8"
  }
 },
 "nbformat": 4,
 "nbformat_minor": 5
}
