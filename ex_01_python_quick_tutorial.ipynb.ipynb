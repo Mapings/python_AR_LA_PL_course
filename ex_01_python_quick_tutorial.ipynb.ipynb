{
 "cells": [
  {
   "cell_type": "code",
   "execution_count": 6,
   "id": "d4e914af-22f4-4d7a-bb70-7e61b73d6df3",
   "metadata": {},
   "outputs": [],
   "source": [
    "# 3.1 print函数笔记\n",
    "#课程中的文字解释：print()是python语言中使用最为频繁的语句，在代码编写、调试过程中，要不断的用该语句来查看数据的值、数据的变化、数据的结构、变量所代表的内容、监测程序进程、以及显示结果等等，print()实时查看数据反馈，才可知道代码编写的目的是否达到，并做出反馈，善用print()是用python写代码的基础\n",
    "\n",
    "# 自己的理解：\n",
    "#输出函数，便于随时检测程序进程，检测程序逻辑是否正确"
   ]
  },
  {
   "cell_type": "code",
   "execution_count": 3,
   "id": "cac34734-5151-46e9-b6d4-a4eabb0e3a57",
   "metadata": {},
   "outputs": [
    {
     "name": "stdout",
     "output_type": "stream",
     "text": [
      "Hello python!\n",
      "Hello world!\n",
      "__________________________________________________\n",
      "编程让设计更具创造力！\n",
      "Everybody should learn how to code a computer, because it teaches you how to think, and allows designers more creative!\n",
      "加： 6\n",
      "减： 2\n",
      "乘： 9\n",
      "除： 1.0\n",
      "整除： 1\n",
      "余数： 1\n",
      "幂： 27\n"
     ]
    }
   ],
   "source": [
    "# 3.1 print实例练习（课程中的函数）\n",
    "print('Hello python!')\n",
    "\n",
    "print(\"Hello world!\")\n",
    "print(\"_\"*50)\n",
    "print(\"编程让设计更具创造力！\")\n",
    "print(\"Everybody should learn how to code a computer, because it teaches you how to think, and allows designers more creative!\")\n",
    "\n",
    "print(\"加：\",3+3) #打印简单的运算\n",
    "print(\"减：\",3-1)\n",
    "print(\"乘：\",3*3)\n",
    "print(\"除：\", 3/3)\n",
    "print(\"整除：\", 3//2)\n",
    "print(\"余数：\", 3%2)\n",
    "print(\"幂：\",3**3)"
   ]
  },
  {
   "cell_type": "code",
   "execution_count": 27,
   "id": "b54e1857-b2a3-4716-8666-c9f5cbddb317",
   "metadata": {},
   "outputs": [
    {
     "name": "stdout",
     "output_type": "stream",
     "text": [
      "加法：4+5= 9\n",
      "\n",
      "\n",
      "换行输出可用\\n\n",
      "在字符串前加'r'时，可以不转义用，\n",
      "而'\\'可以转义用。\n",
      "\n",
      "\n",
      "尝试三引号，\n",
      "可以实现输出多行文本，\n",
      "it's me!\n",
      "\n",
      "尝试单引号、双引号\n",
      "i don't want to die.\n",
      "\"waht a good day!\"He said.\n"
     ]
    }
   ],
   "source": [
    "# 3.1 print实例练习（自己尝试）\n",
    "print(\"加法：4+5=\",4+5)\n",
    "print(\"\\n\")\n",
    "print(r\"换行输出可用\\n\")\n",
    "print(\"在字符串前加'r'时，可以不转义用，\")\n",
    "print(r\"而'\\'可以转义用。\")\n",
    "print(\"\\n\")\n",
    "print(\"\"\"尝试三引号，\n",
    "可以实现输出多行文本，\n",
    "it's me!\"\"\")\n",
    "print(\"\\n尝试单引号、双引号\")\n",
    "print(\"i don't want to die.\")\n",
    "print('\"waht a good day!\"He said.')"
   ]
  },
  {
   "cell_type": "code",
   "execution_count": null,
   "id": "eddce771-e5b2-4878-b0da-e94c69d79764",
   "metadata": {},
   "outputs": [],
   "source": [
    "# 3.2 变量及赋值笔记\n",
    "\n",
    "#课程中的文字解释：\n",
    "#代码读起来应该像流畅的英语散文，而不是加密的密码。\n",
    "#好的易读的变量名的定义正是让代码变的流畅的基础。\n",
    "#变量名不能以数字和特殊字符为开头，也不可以内置的函数名定义，也不存在空格，\n",
    "#如果由几个单词或数字组成变量名，通常由下划线连接，或者每一新单词首字母大写。\n",
    "#变量名定义不符合规范时，解释器会提示错误。"
   ]
  },
  {
   "cell_type": "code",
   "execution_count": 57,
   "id": "b3c68c85-3657-4bf4-b4f2-e97e5e49906f",
   "metadata": {},
   "outputs": [
    {
     "name": "stdout",
     "output_type": "stream",
     "text": [
      "11\n",
      "monadic_equation= 11.0\n",
      "monadic_equation=11.00\n",
      "monadic_equation=11.00\n",
      "The longitude of the Xi'an coordinate is 108.94, and the latitude is 34.261013.\n",
      "func_2=2\n"
     ]
    }
   ],
   "source": [
    "# 3.2 变量及赋值实例练习（课程中的函数）\n",
    "\n",
    "x=5\n",
    "func=2*x+1 #当程序逐行从上至下运行时，注意变量定义的顺序\n",
    "print(func)\n",
    "\n",
    "x=5.0\n",
    "monadic_equation=2*x+1\n",
    "print(\"monadic_equation=\",monadic_equation)\n",
    "print(\"monadic_equation=%.2f\"%monadic_equation) #%字符串格式化方法\n",
    "print(\"monadic_equation={:.2f}\".format(monadic_equation)) #format()字符串格式化方法\n",
    "\n",
    "city_name=\"Xi'an\"\n",
    "coordinate_longitude=108.942292\n",
    "coordiante_latitude=34.261013\n",
    "print(\"The longitude of the Xi'an coordinate is {lon:.2f}, and the latitude is {lat}.\".format(lon=coordinate_longitude,lat=coordiante_latitude))\n",
    "\n",
    "x,y,b=2,5,7 #unpacking 序列解包。尝试，x,y,*z=0,1,2,3,4,5,6; x,y,*z=0,1; (x,y),(a,b)=(0,1),(2,3)\n",
    "func_2=2*x+3*y+b\n",
    "print(\"func_2={}\".format(x,y,b,func_2))"
   ]
  },
  {
   "cell_type": "code",
   "execution_count": 77,
   "id": "77f390a1-a037-4534-8e44-8fdcbbfd64bc",
   "metadata": {},
   "outputs": [
    {
     "name": "stdout",
     "output_type": "stream",
     "text": [
      "控制输出的数值的小数点后的位数。\n",
      "a= 7\n",
      "b= 3\n",
      "运算a/b\n",
      "保留4位小数： 2.3333\n",
      "保留三位小数：2.333\n",
      "保留两位小数： 2.33\n",
      "\n",
      "长变量名的变量输出的尝试\n",
      "the fiest is 2.3335,the second is 3.56.\n",
      "\n",
      "序列解包尝试\n",
      "1\n",
      "2\n",
      "3\n",
      "\n",
      "\n",
      "1\n",
      "2\n",
      "[3, 4, 5]\n",
      "\n",
      "\n",
      "1\n",
      "[2, 3, 4]\n",
      "5\n",
      "\n",
      "\n",
      "1\n",
      "2\n",
      "[]\n",
      "\n",
      "\n",
      "嵌套解包尝试\n",
      "1\n",
      "2\n",
      "3\n",
      "4\n",
      "\n",
      "\n",
      "A ['B', 'C', 'D', 'E', 'F', 'G']\n",
      "B ['C', 'D', 'E', 'F', 'G']\n",
      "C ['D', 'E', 'F', 'G']\n",
      "D ['E', 'F', 'G']\n",
      "E ['F', 'G']\n",
      "F ['G']\n",
      "G []\n",
      "\n",
      "\n",
      "Python如何控制小数点后面的小数位数\n",
      "\n",
      "有三种简单方式\n",
      "1.用round()函数\n",
      "例：x=1.23456，在输出时只想保留小数点后3位：\n",
      "x=1.23456\n",
      "print(round(x,3))\n",
      "\n",
      "2.x=1.23456\n",
      "print('%.3f'%x)\n",
      "\n",
      "3.x=1.23456 print(\"{:.3f}\".format(x))\n",
      "#{}表示槽，后续变量填充到槽中\n",
      "# {:.3f}表示将x填充到槽中时，取小数点后3位\n",
      "\n",
      "关于变量的笔记摘抄:\n",
      "\n",
      "\n",
      "1、声明变量（变量的赋值）\n",
      "name = \"ren\"\n",
      "print(\"name\")\n",
      "变量名为：name，变量name的值为：“ren”\n",
      "\n",
      "2、变量定义的规则\n",
      "（1）变量名只能是字母、数字、下划线的任意组合\n",
      "（2）变量名的第一个字符不能是数字\n",
      "（3）关键字不能声明为变量名\n",
      "\n",
      "3、命名\n",
      "（1）见名知意\n",
      "　　起一个有意义的名字，尽量做到看一眼就知道是什么意思(提高代码可读性) 比如：名字就定义为 name , 定义学生用 student\n",
      "（2）驼峰命名法\n",
      "　　小驼峰式命名法（lower camel case）： 第一个单词以小写字母开始；第二个单词的首字母大写，例如：myName、aDog\n",
      "　　大驼峰式命名法（upper camel case）： 每一个单字的首字母都采用大写字母，例如：FirstName、LastName\n",
      "　　不过在程序员中还有一种命名法比较流行，就是用下划线“_”来连接所有的单词，比如send_buf，last_name\n",
      "　　Python推荐就是用下划线“_”来连接所有的单词\n"
     ]
    }
   ],
   "source": [
    "# 3.2 变量及赋值实例练习（自己尝试）\n",
    "\n",
    "print(\"控制输出的数值的小数点后的位数。\")\n",
    "a=7\n",
    "b=3\n",
    "x=a/b\n",
    "print(\"a=\",a)\n",
    "print( \"b=\",b)\n",
    "print(\"运算a/b\")\n",
    "print(\"保留4位小数：\",'%.4f'%x)\n",
    "print(\"保留三位小数：{:.3f}\".format(x))\n",
    "print(\"保留两位小数：\",round(x,2))\n",
    "\n",
    "print(\"\\n长变量名的变量输出的尝试\")\n",
    "try_longname=2.33345\n",
    "try_lastname=3.562113\n",
    "print(\"the fiest is {lon:.4f},the second is {las:.2f}.\".format(lon=try_longname,las=try_lastname))\n",
    "\n",
    "print(\"\\n序列解包尝试\")\n",
    "r,f,v=1,2,3\n",
    "print(r)\n",
    "print(f)\n",
    "print(v)\n",
    "print(\"\\n\")\n",
    "r,f,*v=1,2,3,4,5\n",
    "print(r)\n",
    "print(f)\n",
    "print(v)\n",
    "print(\"\\n\")\n",
    "r,*f,v=1,2,3,4,5\n",
    "print(r)\n",
    "print(f)\n",
    "print(v)\n",
    "print(\"\\n\")\n",
    "#r,*f,*v=1,2,3,4,5\n",
    "#print(r)\n",
    "#print(f)\n",
    "#print(v)\n",
    "#print(\"\\n\")   这样不行\n",
    "r,f,*v=1,2\n",
    "print(r)\n",
    "print(f)\n",
    "print(v)\n",
    "print(\"\\n\")\n",
    "print(\"嵌套解包尝试\")\n",
    "(r,t),(f,g)=(1,2),(3,4)\n",
    "print(r)\n",
    "print(t)\n",
    "print(f)\n",
    "print(g)\n",
    "print(\"\\n\")\n",
    "\n",
    "s='ABCDEFG'\n",
    "while s:\n",
    "    x,*s=s\n",
    "    print(x,s)\n",
    "\n",
    "\n",
    "\n",
    "print(\"\\n\\nPython如何控制小数点后面的小数位数\")\n",
    "print(r\"\"\"\n",
    "有三种简单方式\n",
    "1.用round()函数\n",
    "例：x=1.23456，在输出时只想保留小数点后3位：\n",
    "x=1.23456\n",
    "print(round(x,3))\n",
    "\n",
    "2.x=1.23456\n",
    "print('%.3f'%x)\n",
    "\n",
    "3.x=1.23456 print(\"{:.3f}\".format(x))\n",
    "#{}表示槽，后续变量填充到槽中\n",
    "# {:.3f}表示将x填充到槽中时，取小数点后3位\n",
    "\"\"\")\n",
    "\n",
    "\n",
    "\n",
    "print(\"关于变量的笔记摘抄:\\n\")\n",
    "print(r\"\"\"\n",
    "1、声明变量（变量的赋值）\n",
    "name = \"ren\"\n",
    "print(\"name\")\n",
    "变量名为：name，变量name的值为：“ren”\n",
    "\n",
    "2、变量定义的规则\n",
    "（1）变量名只能是字母、数字、下划线的任意组合\n",
    "（2）变量名的第一个字符不能是数字\n",
    "（3）关键字不能声明为变量名\n",
    "\n",
    "3、命名\n",
    "（1）见名知意\n",
    "　　起一个有意义的名字，尽量做到看一眼就知道是什么意思(提高代码可读性) 比如：名字就定义为 name , 定义学生用 student\n",
    "（2）驼峰命名法\n",
    "　　小驼峰式命名法（lower camel case）： 第一个单词以小写字母开始；第二个单词的首字母大写，例如：myName、aDog\n",
    "　　大驼峰式命名法（upper camel case）： 每一个单字的首字母都采用大写字母，例如：FirstName、LastName\n",
    "　　不过在程序员中还有一种命名法比较流行，就是用下划线“_”来连接所有的单词，比如send_buf，last_name\n",
    "　　Python推荐就是用下划线“_”来连接所有的单词\"\"\")"
   ]
  },
  {
   "cell_type": "code",
   "execution_count": null,
   "id": "52a3f6d0-999d-42ec-91a7-0ae6803ded45",
   "metadata": {},
   "outputs": [],
   "source": [
    "# 3.3.1 数据结构类型笔记\n",
    "\n",
    "#课程中的文字部分：\n",
    "#基础数据类型：list(列表),tuple(元组),dictionary(dict, 字典)，string(str,字符串)。\n",
    "#库扩展数据类型：array(数组，NumPy); DataFrame(table/表/数据框，pandas)|series; \n",
    "#GeoDataFrame(地理table/表/数据框，GeoPandas)|GeoSeries; tensor(张量，深度学习库PyTorch)"
   ]
  },
  {
   "cell_type": "code",
   "execution_count": 79,
   "id": "eb8d9497-4935-4ef4-97fc-8504fbf8cdb6",
   "metadata": {},
   "outputs": [
    {
     "name": "stdout",
     "output_type": "stream",
     "text": [
      "[5, 8, 11, 14, 17]\n",
      "The list length=5\n",
      "Maximum value=17\n",
      "Minimum value=5\n"
     ]
    }
   ],
   "source": [
    "# 3.3.2 list实例练习（课程中的函数）\n",
    "\n",
    "lst_n=list(range(5,20,3)) #建立列表。range(start,stop,[,step])建立区间。\n",
    "print(lst_n)\n",
    "print(\"The list length={}\".format(len(lst_n)))\n",
    "print(\"Maximum value={}\".format(max(lst_n)))\n",
    "print(\"Minimum value={}\".format(min(lst_n)))\n",
    "\n",
    "print(\"\\n\")\n",
    "\n",
    "\n"
   ]
  },
  {
   "cell_type": "code",
   "execution_count": 5,
   "id": "0ec6c890-488c-4a0e-b6e7-e7fc75dedb46",
   "metadata": {},
   "outputs": [],
   "source": [
    "# 3.5.2 递归函数笔记\n",
    "\n",
    "\n",
    "# python中的递归函数：factorial  \n",
    "\n",
    "# 课程中的文字解释：递归recursion-在数学与计算机科学中，是指在函数的定义中使用函数自身的方法。一般来讲递归包含两个部分：\n",
    "#• 当函数直接返回值时有基本实例（最小可能性问题）；\n",
    "#• 递归实例，包括一个或者多个问题最小部分的递归调用；\n",
    "#这里的关键就是将问题分成为小部分，递归不能永远继续下去，因为它总是以最小可能性问题结束，而这些问题又存贮在基本实例中。每次函数被调用时，针对这个调用的新命名空间会被创建，意味着当函数调用“自身”时，实际上运行的是两个不同的函数（或者说是同一个函数具有两个不同的命名空间）。\n",
    "\n",
    "# 自己对factorial的理解：\n",
    "#一个数x，用factorial可以调用和x相同的另一个数，x会影响这个调用的数的值，但是调用的数不会影响原本的x。"
   ]
  },
  {
   "cell_type": "code",
   "execution_count": 2,
   "id": "c037aa75-aa1c-4259-a410-b1573205f376",
   "metadata": {},
   "outputs": [
    {
     "name": "stdout",
     "output_type": "stream",
     "text": [
      "5040\n"
     ]
    }
   ],
   "source": [
    "# 3.5.2 递归函数实例练习（课程中的函数）\n",
    "\n",
    "def factorial(n):                      # def的含义：python中用def开始函数定义，紧接着是函数名，括号内部为函数的参数。   自己的理解：定义函数\n",
    "    if n==1:                           # if：判断语句      ==：python中的比较运算符，“等于”的意思，作用是比较两个值是否相等\n",
    "        return 1                       # return的用法：1返回函数的返回值：2终止程序的运行，提前退出。    此处为2的用法\n",
    "    else:\n",
    "        return n*factorial(n-1)        # return的返回函数值的用法\n",
    "print(factorial(7))                    # 输出函数值，顺便为n赋值"
   ]
  },
  {
   "cell_type": "code",
   "execution_count": 3,
   "id": "49212cb8-4815-4362-92a2-aa1d9b1c8542",
   "metadata": {},
   "outputs": [
    {
     "name": "stdout",
     "output_type": "stream",
     "text": [
      "20\n"
     ]
    }
   ],
   "source": [
    "# 3.5.2 递归函数实例练习（自己尝试）\n",
    "def factorial(x):\n",
    "    if x==2:\n",
    "        return 2     \n",
    "    else:\n",
    "        return x+factorial(x-2)\n",
    "print(factorial(8))"
   ]
  }
 ],
 "metadata": {
  "kernelspec": {
   "display_name": "Python 3",
   "language": "python",
   "name": "python3"
  },
  "language_info": {
   "codemirror_mode": {
    "name": "ipython",
    "version": 3
   },
   "file_extension": ".py",
   "mimetype": "text/x-python",
   "name": "python",
   "nbconvert_exporter": "python",
   "pygments_lexer": "ipython3",
   "version": "3.8.8"
  }
 },
 "nbformat": 4,
 "nbformat_minor": 5
}
